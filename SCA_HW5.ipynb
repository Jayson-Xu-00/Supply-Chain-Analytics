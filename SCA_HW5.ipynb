{
 "cells": [
  {
   "cell_type": "markdown",
   "id": "1d87b7be-6f14-4fef-8a28-1d75fb49faaa",
   "metadata": {},
   "source": [
    "A company buys inventory of four products for its production process. Annual demand, common and product specific ordering cost, unit cost, and holding cost rate are given in the table below. Assume that demand is steady."
   ]
  },
  {
   "cell_type": "markdown",
   "id": "b70acdf8-d0c5-4537-bec2-83720db07ea7",
   "metadata": {},
   "source": [
    "Find annual operational cost (holding + ordering) for the optimal sourcing strategy if:\n",
    "\n",
    "1. Products are sourced independently;"
   ]
  },
  {
   "cell_type": "code",
   "execution_count": 1,
   "id": "2d79360f-2dd0-419e-a96a-234a594195d3",
   "metadata": {},
   "outputs": [
    {
     "data": {
      "text/plain": [
       "({1: {'EOQ': 148.32396974191326,\n",
       "   'Ordering Cost': 741.6198487095663,\n",
       "   'Holding Cost': 741.6198487095663,\n",
       "   'Total Cost': 1483.2396974191327},\n",
       "  2: {'EOQ': 77.45966692414834,\n",
       "   'Ordering Cost': 464.75800154489,\n",
       "   'Holding Cost': 464.75800154489,\n",
       "   'Total Cost': 929.51600308978},\n",
       "  3: {'EOQ': 64.54972243679029,\n",
       "   'Ordering Cost': 193.6491673103708,\n",
       "   'Holding Cost': 193.64916731037087,\n",
       "   'Total Cost': 387.2983346207417},\n",
       "  4: {'EOQ': 45.64354645876384,\n",
       "   'Ordering Cost': 136.9306393762915,\n",
       "   'Holding Cost': 136.93063937629154,\n",
       "   'Total Cost': 273.8612787525831}},\n",
       " 3073.9153138822376)"
      ]
     },
     "execution_count": 1,
     "metadata": {},
     "output_type": "execute_result"
    }
   ],
   "source": [
    "# Given data for each product\n",
    "products = {\n",
    "    1: {\"demand\": 1000, \"common_ordering_cost\": 100, \"specific_ordering_cost\": 10, \"unit_cost\": 50, \"holding_cost_rate\": 0.2},\n",
    "    2: {\"demand\": 300, \"common_ordering_cost\": 100, \"specific_ordering_cost\": 20, \"unit_cost\": 60, \"holding_cost_rate\": 0.2},\n",
    "    3: {\"demand\": 100, \"common_ordering_cost\": 100, \"specific_ordering_cost\": 25, \"unit_cost\": 30, \"holding_cost_rate\": 0.2},\n",
    "    4: {\"demand\": 50, \"common_ordering_cost\": 100, \"specific_ordering_cost\": 25, \"unit_cost\": 30, \"holding_cost_rate\": 0.2},\n",
    "}\n",
    "\n",
    "# Function to calculate EOQ, ordering cost, holding cost, and total cost\n",
    "def calculate_costs(product_info):\n",
    "    D = product_info[\"demand\"]\n",
    "    S = product_info[\"common_ordering_cost\"] + product_info[\"specific_ordering_cost\"]\n",
    "    H = product_info[\"unit_cost\"] * product_info[\"holding_cost_rate\"]\n",
    "    \n",
    "    # Calculate EOQ\n",
    "    Q_star = (2 * D * S / H) ** 0.5\n",
    "    \n",
    "    # Calculate Ordering Cost\n",
    "    OC = S * D / Q_star\n",
    "    \n",
    "    # Calculate Holding Cost\n",
    "    HC = H * Q_star / 2\n",
    "    \n",
    "    # Total Cost\n",
    "    TC = OC + HC\n",
    "    \n",
    "    return Q_star, OC, HC, TC\n",
    "\n",
    "# Calculate and store results\n",
    "results = {}\n",
    "for product, info in products.items():\n",
    "    Q_star, OC, HC, TC = calculate_costs(info)\n",
    "    results[product] = {\"EOQ\": Q_star, \"Ordering Cost\": OC, \"Holding Cost\": HC, \"Total Cost\": TC}\n",
    "\n",
    "# Sum of total costs for all products\n",
    "total_annual_operational_cost = sum(result[\"Total Cost\"] for result in results.values())\n",
    "\n",
    "results, total_annual_operational_cost\n"
   ]
  },
  {
   "cell_type": "markdown",
   "id": "2364da95-cb3a-4a32-a73d-9e77a0c9b6a5",
   "metadata": {},
   "source": [
    "Find annual operational cost (holding + ordering) for the optimal sourcing strategy if:\n",
    "\n",
    "2. All four products are sourced with the same frequency"
   ]
  },
  {
   "cell_type": "code",
   "execution_count": 2,
   "id": "dbfcde7d-36e0-4088-b9df-7569e3dd0524",
   "metadata": {},
   "outputs": [
    {
     "data": {
      "text/plain": [
       "(170.29386365926402, 851.4693182963199, 851.4693182963201, 1702.93863659264)"
      ]
     },
     "execution_count": 2,
     "metadata": {},
     "output_type": "execute_result"
    }
   ],
   "source": [
    "# Calculate total demand and weighted average unit cost\n",
    "total_demand = sum(product[\"demand\"] for product in products.values())\n",
    "weighted_average_unit_cost = sum(product[\"demand\"] * product[\"unit_cost\"] for product in products.values()) / total_demand\n",
    "\n",
    "# Common ordering cost\n",
    "common_ordering_cost = products[1][\"common_ordering_cost\"]  # Same for all products\n",
    "\n",
    "# Calculate average holding cost rate (same for all products, thus directly taken from any product)\n",
    "holding_cost_rate = products[1][\"holding_cost_rate\"]\n",
    "\n",
    "# Calculate average holding cost per unit\n",
    "H_avg = weighted_average_unit_cost * holding_cost_rate\n",
    "\n",
    "# Calculate EOQ for the combined order\n",
    "Q_star_total = (2 * total_demand * common_ordering_cost / H_avg) ** 0.5\n",
    "\n",
    "# Calculate total annual ordering cost for the system\n",
    "OC_total = total_demand / Q_star_total * common_ordering_cost\n",
    "\n",
    "# Calculate total annual holding cost for the system\n",
    "HC_total = Q_star_total / 2 * H_avg\n",
    "\n",
    "# Total annual operational cost for the system\n",
    "TC_total_system = OC_total + HC_total\n",
    "\n",
    "Q_star_total, OC_total, HC_total, TC_total_system\n"
   ]
  },
  {
   "cell_type": "markdown",
   "id": "bd75afc0-2073-4c64-aedc-e7f8edcd869f",
   "metadata": {},
   "source": [
    "Find annual operational cost (holding + ordering) for the optimal sourcing strategy if:\n",
    "\n",
    "3. Order frequencies are determined according to the tailored aggregation strategy."
   ]
  },
  {
   "cell_type": "code",
   "execution_count": 3,
   "id": "6f1d1521-33d4-4531-80df-357958a713e4",
   "metadata": {},
   "outputs": [
    {
     "data": {
      "text/plain": [
       "(79.05694150420949,\n",
       " 237.17082451262843,\n",
       " 237.17082451262849,\n",
       " 474.3416490252569,\n",
       " 2887.09734953417)"
      ]
     },
     "execution_count": 3,
     "metadata": {},
     "output_type": "execute_result"
    }
   ],
   "source": [
    "# Simplified grouping: Group products 3 and 4 together, and treat products 1 and 2 individually\n",
    "# For group of products 3 and 4\n",
    "group_demand_34 = products[3][\"demand\"] + products[4][\"demand\"]\n",
    "specific_ordering_cost_34 = (products[3][\"specific_ordering_cost\"] + products[4][\"specific_ordering_cost\"]) / 2  # Average specific cost\n",
    "weighted_unit_cost_34 = (products[3][\"demand\"] * products[3][\"unit_cost\"] + products[4][\"demand\"] * products[4][\"unit_cost\"]) / group_demand_34\n",
    "H_avg_34 = weighted_unit_cost_34 * holding_cost_rate\n",
    "\n",
    "# Calculate EOQ for the group\n",
    "Q_star_group_34 = (2 * group_demand_34 * (common_ordering_cost + specific_ordering_cost_34) / H_avg_34) ** 0.5\n",
    "\n",
    "# Calculate total annual ordering cost for the group\n",
    "OC_group_34 = group_demand_34 / Q_star_group_34 * (common_ordering_cost + specific_ordering_cost_34)\n",
    "\n",
    "# Calculate total annual holding cost for the group\n",
    "HC_group_34 = Q_star_group_34 / 2 * H_avg_34\n",
    "\n",
    "# Total annual operational cost for the group\n",
    "TC_group_34 = OC_group_34 + HC_group_34\n",
    "\n",
    "# Results for product 1 and 2 remain unchanged from independent sourcing\n",
    "TC_individual_12 = results[1][\"Total Cost\"] + results[2][\"Total Cost\"]\n",
    "\n",
    "# Sum of total costs for tailored aggregation strategy\n",
    "total_annual_operational_cost_tailored = TC_group_34 + TC_individual_12\n",
    "\n",
    "Q_star_group_34, OC_group_34, HC_group_34, TC_group_34, total_annual_operational_cost_tailored\n"
   ]
  }
 ],
 "metadata": {
  "kernelspec": {
   "display_name": "Python 3 (ipykernel)",
   "language": "python",
   "name": "python3"
  },
  "language_info": {
   "codemirror_mode": {
    "name": "ipython",
    "version": 3
   },
   "file_extension": ".py",
   "mimetype": "text/x-python",
   "name": "python",
   "nbconvert_exporter": "python",
   "pygments_lexer": "ipython3",
   "version": "3.10.13"
  }
 },
 "nbformat": 4,
 "nbformat_minor": 5
}
